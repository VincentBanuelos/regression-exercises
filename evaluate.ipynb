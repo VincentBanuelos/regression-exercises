{
 "cells": [
  {
   "cell_type": "code",
   "execution_count": 1,
   "metadata": {},
   "outputs": [],
   "source": [
    "import pandas as pd\n",
    "import numpy as np\n",
    "import matplotlib.pyplot as plt\n",
    "import seaborn as sns\n",
    "import scipy.stats as stats\n",
    "import math\n",
    "\n",
    "\n",
    "from sklearn.linear_model import LinearRegression\n",
    "from sklearn.preprocessing import MinMaxScaler\n",
    "from sklearn.metrics import mean_squared_error\n",
    "import wrangle\n"
   ]
  },
  {
   "cell_type": "markdown",
   "metadata": {},
   "source": [
    "## 1. Load your zillow dataset."
   ]
  },
  {
   "cell_type": "code",
   "execution_count": 2,
   "metadata": {},
   "outputs": [
    {
     "data": {
      "text/html": [
       "<div>\n",
       "<style scoped>\n",
       "    .dataframe tbody tr th:only-of-type {\n",
       "        vertical-align: middle;\n",
       "    }\n",
       "\n",
       "    .dataframe tbody tr th {\n",
       "        vertical-align: top;\n",
       "    }\n",
       "\n",
       "    .dataframe thead th {\n",
       "        text-align: right;\n",
       "    }\n",
       "</style>\n",
       "<table border=\"1\" class=\"dataframe\">\n",
       "  <thead>\n",
       "    <tr style=\"text-align: right;\">\n",
       "      <th></th>\n",
       "      <th>bedrooms</th>\n",
       "      <th>bathrooms</th>\n",
       "      <th>area</th>\n",
       "      <th>tax_value</th>\n",
       "      <th>year_built</th>\n",
       "      <th>taxamount</th>\n",
       "      <th>fips</th>\n",
       "    </tr>\n",
       "  </thead>\n",
       "  <tbody>\n",
       "    <tr>\n",
       "      <th>10057</th>\n",
       "      <td>4.0</td>\n",
       "      <td>2.0</td>\n",
       "      <td>1561.0</td>\n",
       "      <td>248240.0</td>\n",
       "      <td>1973.0</td>\n",
       "      <td>2504.40</td>\n",
       "      <td>6059.0</td>\n",
       "    </tr>\n",
       "    <tr>\n",
       "      <th>2004970</th>\n",
       "      <td>3.0</td>\n",
       "      <td>2.0</td>\n",
       "      <td>1770.0</td>\n",
       "      <td>88390.0</td>\n",
       "      <td>1960.0</td>\n",
       "      <td>1671.93</td>\n",
       "      <td>6037.0</td>\n",
       "    </tr>\n",
       "    <tr>\n",
       "      <th>306031</th>\n",
       "      <td>2.0</td>\n",
       "      <td>1.0</td>\n",
       "      <td>1452.0</td>\n",
       "      <td>81169.0</td>\n",
       "      <td>1946.0</td>\n",
       "      <td>1310.88</td>\n",
       "      <td>6037.0</td>\n",
       "    </tr>\n",
       "    <tr>\n",
       "      <th>1038595</th>\n",
       "      <td>3.0</td>\n",
       "      <td>1.0</td>\n",
       "      <td>1000.0</td>\n",
       "      <td>119174.0</td>\n",
       "      <td>1950.0</td>\n",
       "      <td>1900.28</td>\n",
       "      <td>6037.0</td>\n",
       "    </tr>\n",
       "    <tr>\n",
       "      <th>270959</th>\n",
       "      <td>3.0</td>\n",
       "      <td>2.0</td>\n",
       "      <td>1974.0</td>\n",
       "      <td>432268.0</td>\n",
       "      <td>1988.0</td>\n",
       "      <td>5315.27</td>\n",
       "      <td>6037.0</td>\n",
       "    </tr>\n",
       "  </tbody>\n",
       "</table>\n",
       "</div>"
      ],
      "text/plain": [
       "         bedrooms  bathrooms    area  tax_value  year_built  taxamount    fips\n",
       "10057         4.0        2.0  1561.0   248240.0      1973.0    2504.40  6059.0\n",
       "2004970       3.0        2.0  1770.0    88390.0      1960.0    1671.93  6037.0\n",
       "306031        2.0        1.0  1452.0    81169.0      1946.0    1310.88  6037.0\n",
       "1038595       3.0        1.0  1000.0   119174.0      1950.0    1900.28  6037.0\n",
       "270959        3.0        2.0  1974.0   432268.0      1988.0    5315.27  6037.0"
      ]
     },
     "execution_count": 2,
     "metadata": {},
     "output_type": "execute_result"
    }
   ],
   "source": [
    "train, validate, test = wrangle.wrangle_zillow()\n",
    "train.head()"
   ]
  },
  {
   "cell_type": "code",
   "execution_count": 3,
   "metadata": {},
   "outputs": [
    {
     "data": {
      "text/plain": [
       "(1038959, 7)"
      ]
     },
     "execution_count": 3,
     "metadata": {},
     "output_type": "execute_result"
    }
   ],
   "source": [
    "train.shape"
   ]
  },
  {
   "cell_type": "markdown",
   "metadata": {},
   "source": [
    "## 2. Fit a linear regression model (ordinary least squares) and compute yhat, predictions of tax_value using only area."
   ]
  },
  {
   "cell_type": "code",
   "execution_count": 4,
   "metadata": {},
   "outputs": [
    {
     "data": {
      "text/html": [
       "<div>\n",
       "<style scoped>\n",
       "    .dataframe tbody tr th:only-of-type {\n",
       "        vertical-align: middle;\n",
       "    }\n",
       "\n",
       "    .dataframe tbody tr th {\n",
       "        vertical-align: top;\n",
       "    }\n",
       "\n",
       "    .dataframe thead th {\n",
       "        text-align: right;\n",
       "    }\n",
       "</style>\n",
       "<table border=\"1\" class=\"dataframe\">\n",
       "  <thead>\n",
       "    <tr style=\"text-align: right;\">\n",
       "      <th></th>\n",
       "      <th>area</th>\n",
       "      <th>tax_value</th>\n",
       "    </tr>\n",
       "  </thead>\n",
       "  <tbody>\n",
       "    <tr>\n",
       "      <th>10057</th>\n",
       "      <td>1561.0</td>\n",
       "      <td>248240.0</td>\n",
       "    </tr>\n",
       "    <tr>\n",
       "      <th>2004970</th>\n",
       "      <td>1770.0</td>\n",
       "      <td>88390.0</td>\n",
       "    </tr>\n",
       "    <tr>\n",
       "      <th>306031</th>\n",
       "      <td>1452.0</td>\n",
       "      <td>81169.0</td>\n",
       "    </tr>\n",
       "    <tr>\n",
       "      <th>1038595</th>\n",
       "      <td>1000.0</td>\n",
       "      <td>119174.0</td>\n",
       "    </tr>\n",
       "    <tr>\n",
       "      <th>270959</th>\n",
       "      <td>1974.0</td>\n",
       "      <td>432268.0</td>\n",
       "    </tr>\n",
       "  </tbody>\n",
       "</table>\n",
       "</div>"
      ],
      "text/plain": [
       "           area  tax_value\n",
       "10057    1561.0   248240.0\n",
       "2004970  1770.0    88390.0\n",
       "306031   1452.0    81169.0\n",
       "1038595  1000.0   119174.0\n",
       "270959   1974.0   432268.0"
      ]
     },
     "execution_count": 4,
     "metadata": {},
     "output_type": "execute_result"
    }
   ],
   "source": [
    "# Removing columns from train and making new dataframe to make dataframe more readable\n",
    "train_cut = pd.DataFrame()\n",
    "train_cut['area'] = train ['area']\n",
    "train_cut['tax_value'] = train['tax_value']\n",
    "train_cut.head()"
   ]
  },
  {
   "cell_type": "code",
   "execution_count": 5,
   "metadata": {},
   "outputs": [
    {
     "data": {
      "text/html": [
       "<div>\n",
       "<style scoped>\n",
       "    .dataframe tbody tr th:only-of-type {\n",
       "        vertical-align: middle;\n",
       "    }\n",
       "\n",
       "    .dataframe tbody tr th {\n",
       "        vertical-align: top;\n",
       "    }\n",
       "\n",
       "    .dataframe thead th {\n",
       "        text-align: right;\n",
       "    }\n",
       "</style>\n",
       "<table border=\"1\" class=\"dataframe\">\n",
       "  <thead>\n",
       "    <tr style=\"text-align: right;\">\n",
       "      <th></th>\n",
       "      <th>area</th>\n",
       "      <th>tax_value</th>\n",
       "    </tr>\n",
       "  </thead>\n",
       "  <tbody>\n",
       "    <tr>\n",
       "      <th>10057</th>\n",
       "      <td>0.457612</td>\n",
       "      <td>248240.0</td>\n",
       "    </tr>\n",
       "    <tr>\n",
       "      <th>2004970</th>\n",
       "      <td>0.518921</td>\n",
       "      <td>88390.0</td>\n",
       "    </tr>\n",
       "    <tr>\n",
       "      <th>306031</th>\n",
       "      <td>0.425638</td>\n",
       "      <td>81169.0</td>\n",
       "    </tr>\n",
       "    <tr>\n",
       "      <th>1038595</th>\n",
       "      <td>0.293048</td>\n",
       "      <td>119174.0</td>\n",
       "    </tr>\n",
       "    <tr>\n",
       "      <th>270959</th>\n",
       "      <td>0.578762</td>\n",
       "      <td>432268.0</td>\n",
       "    </tr>\n",
       "  </tbody>\n",
       "</table>\n",
       "</div>"
      ],
      "text/plain": [
       "             area  tax_value\n",
       "10057    0.457612   248240.0\n",
       "2004970  0.518921    88390.0\n",
       "306031   0.425638    81169.0\n",
       "1038595  0.293048   119174.0\n",
       "270959   0.578762   432268.0"
      ]
     },
     "execution_count": 5,
     "metadata": {},
     "output_type": "execute_result"
    }
   ],
   "source": [
    "#Create the scaler and fit/transform my area column\n",
    "mms = MinMaxScaler()\n",
    "\n",
    "train_cut['area'] = mms.fit_transform(train_cut[['area']])\n",
    "\n",
    "train_cut.head()"
   ]
  },
  {
   "cell_type": "code",
   "execution_count": 6,
   "metadata": {},
   "outputs": [
    {
     "data": {
      "text/html": [
       "<div>\n",
       "<style scoped>\n",
       "    .dataframe tbody tr th:only-of-type {\n",
       "        vertical-align: middle;\n",
       "    }\n",
       "\n",
       "    .dataframe tbody tr th {\n",
       "        vertical-align: top;\n",
       "    }\n",
       "\n",
       "    .dataframe thead th {\n",
       "        text-align: right;\n",
       "    }\n",
       "</style>\n",
       "<table border=\"1\" class=\"dataframe\">\n",
       "  <thead>\n",
       "    <tr style=\"text-align: right;\">\n",
       "      <th></th>\n",
       "      <th>area</th>\n",
       "      <th>tax_value</th>\n",
       "      <th>baseline_yhat</th>\n",
       "    </tr>\n",
       "  </thead>\n",
       "  <tbody>\n",
       "    <tr>\n",
       "      <th>10057</th>\n",
       "      <td>0.457612</td>\n",
       "      <td>248240.0</td>\n",
       "      <td>327962.928757</td>\n",
       "    </tr>\n",
       "    <tr>\n",
       "      <th>2004970</th>\n",
       "      <td>0.518921</td>\n",
       "      <td>88390.0</td>\n",
       "      <td>327962.928757</td>\n",
       "    </tr>\n",
       "    <tr>\n",
       "      <th>306031</th>\n",
       "      <td>0.425638</td>\n",
       "      <td>81169.0</td>\n",
       "      <td>327962.928757</td>\n",
       "    </tr>\n",
       "  </tbody>\n",
       "</table>\n",
       "</div>"
      ],
      "text/plain": [
       "             area  tax_value  baseline_yhat\n",
       "10057    0.457612   248240.0  327962.928757\n",
       "2004970  0.518921    88390.0  327962.928757\n",
       "306031   0.425638    81169.0  327962.928757"
      ]
     },
     "execution_count": 6,
     "metadata": {},
     "output_type": "execute_result"
    }
   ],
   "source": [
    "baseline_yhat = train_cut['tax_value'].mean()\n",
    "\n",
    "train_cut['baseline_yhat'] = baseline_yhat\n",
    "train_cut.head(3)\n"
   ]
  },
  {
   "cell_type": "code",
   "execution_count": 7,
   "metadata": {},
   "outputs": [
    {
     "data": {
      "text/html": [
       "<div>\n",
       "<style scoped>\n",
       "    .dataframe tbody tr th:only-of-type {\n",
       "        vertical-align: middle;\n",
       "    }\n",
       "\n",
       "    .dataframe tbody tr th {\n",
       "        vertical-align: top;\n",
       "    }\n",
       "\n",
       "    .dataframe thead th {\n",
       "        text-align: right;\n",
       "    }\n",
       "</style>\n",
       "<table border=\"1\" class=\"dataframe\">\n",
       "  <thead>\n",
       "    <tr style=\"text-align: right;\">\n",
       "      <th></th>\n",
       "      <th>area</th>\n",
       "      <th>tax_value</th>\n",
       "      <th>baseline_yhat</th>\n",
       "      <th>ols_yhat</th>\n",
       "    </tr>\n",
       "  </thead>\n",
       "  <tbody>\n",
       "    <tr>\n",
       "      <th>10057</th>\n",
       "      <td>0.457612</td>\n",
       "      <td>248240.0</td>\n",
       "      <td>327962.928757</td>\n",
       "      <td>314131.125460</td>\n",
       "    </tr>\n",
       "    <tr>\n",
       "      <th>2004970</th>\n",
       "      <td>0.518921</td>\n",
       "      <td>88390.0</td>\n",
       "      <td>327962.928757</td>\n",
       "      <td>345309.674341</td>\n",
       "    </tr>\n",
       "    <tr>\n",
       "      <th>306031</th>\n",
       "      <td>0.425638</td>\n",
       "      <td>81169.0</td>\n",
       "      <td>327962.928757</td>\n",
       "      <td>297870.542550</td>\n",
       "    </tr>\n",
       "    <tr>\n",
       "      <th>1038595</th>\n",
       "      <td>0.293048</td>\n",
       "      <td>119174.0</td>\n",
       "      <td>327962.928757</td>\n",
       "      <td>230441.336357</td>\n",
       "    </tr>\n",
       "    <tr>\n",
       "      <th>270959</th>\n",
       "      <td>0.578762</td>\n",
       "      <td>432268.0</td>\n",
       "      <td>327962.928757</td>\n",
       "      <td>375742.324924</td>\n",
       "    </tr>\n",
       "  </tbody>\n",
       "</table>\n",
       "</div>"
      ],
      "text/plain": [
       "             area  tax_value  baseline_yhat       ols_yhat\n",
       "10057    0.457612   248240.0  327962.928757  314131.125460\n",
       "2004970  0.518921    88390.0  327962.928757  345309.674341\n",
       "306031   0.425638    81169.0  327962.928757  297870.542550\n",
       "1038595  0.293048   119174.0  327962.928757  230441.336357\n",
       "270959   0.578762   432268.0  327962.928757  375742.324924"
      ]
     },
     "execution_count": 7,
     "metadata": {},
     "output_type": "execute_result"
    }
   ],
   "source": [
    "model = LinearRegression().fit(train_cut[['area']], train_cut['tax_value'])\n",
    "train_cut['ols_yhat'] = model.predict(train_cut[['area']])\n",
    "train_cut.head()"
   ]
  },
  {
   "cell_type": "markdown",
   "metadata": {},
   "source": [
    "## 3. Plot the residuals for the linear regression model that you made."
   ]
  },
  {
   "cell_type": "code",
   "execution_count": 8,
   "metadata": {},
   "outputs": [
    {
     "data": {
      "text/html": [
       "<div>\n",
       "<style scoped>\n",
       "    .dataframe tbody tr th:only-of-type {\n",
       "        vertical-align: middle;\n",
       "    }\n",
       "\n",
       "    .dataframe tbody tr th {\n",
       "        vertical-align: top;\n",
       "    }\n",
       "\n",
       "    .dataframe thead th {\n",
       "        text-align: right;\n",
       "    }\n",
       "</style>\n",
       "<table border=\"1\" class=\"dataframe\">\n",
       "  <thead>\n",
       "    <tr style=\"text-align: right;\">\n",
       "      <th></th>\n",
       "      <th>area</th>\n",
       "      <th>tax_value</th>\n",
       "      <th>baseline_yhat</th>\n",
       "      <th>ols_yhat</th>\n",
       "      <th>residual</th>\n",
       "      <th>residual_baseline</th>\n",
       "    </tr>\n",
       "  </thead>\n",
       "  <tbody>\n",
       "    <tr>\n",
       "      <th>10057</th>\n",
       "      <td>0.457612</td>\n",
       "      <td>248240.0</td>\n",
       "      <td>327962.928757</td>\n",
       "      <td>314131.125460</td>\n",
       "      <td>-65891.125460</td>\n",
       "      <td>-79722.928757</td>\n",
       "    </tr>\n",
       "    <tr>\n",
       "      <th>2004970</th>\n",
       "      <td>0.518921</td>\n",
       "      <td>88390.0</td>\n",
       "      <td>327962.928757</td>\n",
       "      <td>345309.674341</td>\n",
       "      <td>-256919.674341</td>\n",
       "      <td>-239572.928757</td>\n",
       "    </tr>\n",
       "    <tr>\n",
       "      <th>306031</th>\n",
       "      <td>0.425638</td>\n",
       "      <td>81169.0</td>\n",
       "      <td>327962.928757</td>\n",
       "      <td>297870.542550</td>\n",
       "      <td>-216701.542550</td>\n",
       "      <td>-246793.928757</td>\n",
       "    </tr>\n",
       "    <tr>\n",
       "      <th>1038595</th>\n",
       "      <td>0.293048</td>\n",
       "      <td>119174.0</td>\n",
       "      <td>327962.928757</td>\n",
       "      <td>230441.336357</td>\n",
       "      <td>-111267.336357</td>\n",
       "      <td>-208788.928757</td>\n",
       "    </tr>\n",
       "    <tr>\n",
       "      <th>270959</th>\n",
       "      <td>0.578762</td>\n",
       "      <td>432268.0</td>\n",
       "      <td>327962.928757</td>\n",
       "      <td>375742.324924</td>\n",
       "      <td>56525.675076</td>\n",
       "      <td>104305.071243</td>\n",
       "    </tr>\n",
       "  </tbody>\n",
       "</table>\n",
       "</div>"
      ],
      "text/plain": [
       "             area  tax_value  baseline_yhat       ols_yhat       residual  \\\n",
       "10057    0.457612   248240.0  327962.928757  314131.125460  -65891.125460   \n",
       "2004970  0.518921    88390.0  327962.928757  345309.674341 -256919.674341   \n",
       "306031   0.425638    81169.0  327962.928757  297870.542550 -216701.542550   \n",
       "1038595  0.293048   119174.0  327962.928757  230441.336357 -111267.336357   \n",
       "270959   0.578762   432268.0  327962.928757  375742.324924   56525.675076   \n",
       "\n",
       "         residual_baseline  \n",
       "10057        -79722.928757  \n",
       "2004970     -239572.928757  \n",
       "306031      -246793.928757  \n",
       "1038595     -208788.928757  \n",
       "270959       104305.071243  "
      ]
     },
     "execution_count": 8,
     "metadata": {},
     "output_type": "execute_result"
    }
   ],
   "source": [
    "# compute residuals\n",
    "train_cut['residual'] = train_cut['tax_value'] - train_cut['ols_yhat']\n",
    "train_cut['residual_baseline'] = train_cut['tax_value'] - train_cut['baseline_yhat']\n",
    "train_cut.head()"
   ]
  },
  {
   "cell_type": "code",
   "execution_count": 9,
   "metadata": {},
   "outputs": [
    {
     "data": {
      "image/png": "[encoded data removed]",
      "text/plain": [
       "<Figure size 432x288 with 1 Axes>"
      ]
     },
     "metadata": {},
     "output_type": "display_data"
    },
    {
     "data": {
      "image/png": "[encoded data removed]",
      "text/plain": [
       "<Figure size 432x288 with 1 Axes>"
      ]
     },
     "metadata": {},
     "output_type": "display_data"
    }
   ],
   "source": [
    "plt.scatter(x='tax_value', y='residual', data=train_cut)\n",
    "plt.xlabel('Tax Value')\n",
    "plt.ylabel('Residual')\n",
    "plt.title('Residual vs Tax Value Plot')\n",
    "plt.show()\n",
    "\n",
    "plt.scatter(x='tax_value', y='residual_baseline', data=train_cut)\n",
    "plt.axhline(baseline_yhat, ls=':')\n",
    "\n",
    "plt.xlabel('Tax Value')\n",
    "plt.ylabel('Baseline Residual')\n",
    "plt.title('Baseline Residual vs Tax Value Plot')\n",
    "\n",
    "plt.show()"
   ]
  },
  {
   "cell_type": "markdown",
   "metadata": {},
   "source": [
    "## 4. Calculate the sum of squared errors, explained sum of squares, total sum of squares, mean squared error, and root mean squared error for your model.\n",
    "\n"
   ]
  },
  {
   "cell_type": "code",
   "execution_count": 10,
   "metadata": {},
   "outputs": [
    {
     "name": "stdout",
     "output_type": "stream",
     "text": [
      "MSE is 32510725506.882072.\n",
      "------------------------------------\n",
      "SSE is 3.3777310861904692e+16.\n",
      "------------------------------------\n",
      "ESS is 7361327054838011.0.\n",
      "------------------------------------\n",
      "TSS is 4.11386379167427e+16.\n",
      "------------------------------------\n",
      "RMSE is 180307.30852320456.\n",
      "------------------------------------\n"
     ]
    }
   ],
   "source": [
    "#Calculate the MSE (Mean Squared Error)\n",
    "\n",
    "MSE  = mean_squared_error(train_cut.tax_value, train_cut.ols_yhat)\n",
    "print(f'MSE is {MSE}.')\n",
    "print('------------------------------------')\n",
    "\n",
    "SSE = MSE *len(train_cut)\n",
    "print(f'SSE is {SSE}.')\n",
    "print('------------------------------------')\n",
    "\n",
    "ESS = sum((train_cut.ols_yhat - train_cut.tax_value.mean())**2)\n",
    "print(f'ESS is {ESS}.')\n",
    "print('------------------------------------')\n",
    "\n",
    "TSS = SSE + ESS\n",
    "print(f'TSS is {TSS}.')\n",
    "print('------------------------------------')\n",
    "\n",
    "RMSE = math.sqrt(MSE)\n",
    "print(f'RMSE is {RMSE}.')\n",
    "print('------------------------------------')\n"
   ]
  },
  {
   "cell_type": "markdown",
   "metadata": {},
   "source": [
    "## 5. Calculate the sum of squared errors, mean squared error, and root mean squared error for the baseline model (i.e. a model that always predicts the average tax_value amount)."
   ]
  },
  {
   "cell_type": "code",
   "execution_count": 11,
   "metadata": {},
   "outputs": [
    {
     "ename": "NameError",
     "evalue": "name 'MSE_baseline' is not defined",
     "output_type": "error",
     "traceback": [
      "\u001b[0;31m---------------------------------------------------------------------------\u001b[0m",
      "\u001b[0;31mNameError\u001b[0m                                 Traceback (most recent call last)",
      "\u001b[1;32m/Users/vincentbanuelos/codeup-data-science/regression-exercises/evaluate.ipynb Cell 16\u001b[0m in \u001b[0;36m<cell line: 2>\u001b[0;34m()\u001b[0m\n\u001b[1;32m      <a href='vscode-notebook-cell:/Users/vincentbanuelos/codeup-data-science/regression-exercises/evaluate.ipynb#X21sZmlsZQ%3D%3D?line=0'>1</a>\u001b[0m BASELINE_MSE\u001b[39m=\u001b[39m mean_squared_error(train_cut\u001b[39m.\u001b[39mtax_value, train_cut\u001b[39m.\u001b[39mbaseline_yhat)\n\u001b[0;32m----> <a href='vscode-notebook-cell:/Users/vincentbanuelos/codeup-data-science/regression-exercises/evaluate.ipynb#X21sZmlsZQ%3D%3D?line=1'>2</a>\u001b[0m \u001b[39mprint\u001b[39m(\u001b[39mf\u001b[39m\u001b[39m'\u001b[39m\u001b[39mBaseline MSE is \u001b[39m\u001b[39m{\u001b[39;00mMSE_baseline\u001b[39m}\u001b[39;00m\u001b[39m.\u001b[39m\u001b[39m'\u001b[39m)\n\u001b[1;32m      <a href='vscode-notebook-cell:/Users/vincentbanuelos/codeup-data-science/regression-exercises/evaluate.ipynb#X21sZmlsZQ%3D%3D?line=2'>3</a>\u001b[0m \u001b[39mprint\u001b[39m(\u001b[39m'\u001b[39m\u001b[39m------------------------------------\u001b[39m\u001b[39m'\u001b[39m)\n\u001b[1;32m      <a href='vscode-notebook-cell:/Users/vincentbanuelos/codeup-data-science/regression-exercises/evaluate.ipynb#X21sZmlsZQ%3D%3D?line=4'>5</a>\u001b[0m BASELINE_SSE \u001b[39m=\u001b[39m BASELINE_MSE \u001b[39m*\u001b[39m \u001b[39mlen\u001b[39m(train_cut)\n",
      "\u001b[0;31mNameError\u001b[0m: name 'MSE_baseline' is not defined"
     ]
    }
   ],
   "source": [
    "BASELINE_MSE= mean_squared_error(train_cut.tax_value, train_cut.baseline_yhat)\n",
    "print(f'Baseline MSE is {MSE_baseline}.')\n",
    "print('------------------------------------')\n",
    "\n",
    "BASELINE_SSE = BASELINE_MSE * len(train_cut)\n",
    "print(f'Baseline SSE is {BASELINE_SSE}.')\n",
    "print('------------------------------------')\n",
    "\n",
    "BASELINE_ESS = sum((train_cut.baseline_yhat - train_cut.tax_value.mean())**2)\n",
    "print(f'ESS is {ESS}.')\n",
    "print('------------------------------------')\n",
    "\n",
    "BASELINE_TSS = BASELINE_SSE + BASELINE_ESS\n",
    "print(f'TSS is {TSS}.')\n",
    "print('------------------------------------')\n",
    "\n",
    "BASELINE_RMSE = math.sqrt(BASELINE_MSE)\n",
    "print(f'RMSE is {RMSE}.')\n",
    "print('------------------------------------')"
   ]
  },
  {
   "cell_type": "markdown",
   "metadata": {},
   "source": [
    "## 6. Write python code that compares the sum of squared errors for your model against the sum of squared errors for the baseline model and outputs whether or not your model performs better than the baseline model."
   ]
  },
  {
   "cell_type": "code",
   "execution_count": null,
   "metadata": {},
   "outputs": [],
   "source": [
    "#Evaluate the result of my model against the baseline\n",
    "if SSE < BASELINE_SSE:\n",
    "    print('The linear regression model outperforms the baseline!')\n",
    "else:\n",
    "    print('The model fails to improve upon the baseline.')\n"
   ]
  },
  {
   "cell_type": "markdown",
   "metadata": {},
   "source": [
    "## 7. What is the amount of variance explained in your model?"
   ]
  },
  {
   "cell_type": "code",
   "execution_count": null,
   "metadata": {},
   "outputs": [],
   "source": [
    "#Calculate how much variance is explained by my model\n",
    "R2 = ESS / TSS\n",
    "R2"
   ]
  },
  {
   "cell_type": "markdown",
   "metadata": {},
   "source": [
    "## 8. Is your model better than the baseline model?"
   ]
  },
  {
   "cell_type": "markdown",
   "metadata": {},
   "source": [
    "Yes but barely..."
   ]
  },
  {
   "cell_type": "markdown",
   "metadata": {},
   "source": [
    "## 9. Create a file named evaluate.py that contains the following functions.\n",
    "\n",
    "- plot_residuals(y, yhat): creates a residual plot\n",
    "- regression_errors(y, yhat): returns the following values:\n",
    "    - sum of squared errors (SSE)\n",
    "    - explained sum of squares (ESS)\n",
    "    - total sum of squares (TSS)\n",
    "    - mean squared error (MSE)\n",
    "    - root mean squared error (RMSE)\n",
    "- baseline_mean_errors(y): computes the SSE, MSE, and RMSE for the baseline model\n",
    "- better_than_baseline(y, yhat): returns true if your model performs better than the baseline, otherwise false"
   ]
  },
  {
   "cell_type": "code",
   "execution_count": null,
   "metadata": {},
   "outputs": [],
   "source": [
    "def plot_residuals(y, yhat):\n",
    "    residuals = yhat - y\n",
    "    plt.scatter(x=y, y=residuals)\n",
    "    plt.title('Residual plot')"
   ]
  },
  {
   "cell_type": "code",
   "execution_count": null,
   "metadata": {},
   "outputs": [],
   "source": [
    "def regression_errors(y, yhat):\n",
    "    sse = mean_squared_error(y, yhat) * len(y)\n",
    "    ess = sum((yhat - y.mean()) ** 2)\n",
    "    tss = sse + ess\n",
    "    mse = mean_squared_error(y, yhat)\n",
    "    rmse = math.sqrt(mse)\n",
    "    return sse, ess, tss, mse, rmse"
   ]
  },
  {
   "cell_type": "code",
   "execution_count": null,
   "metadata": {},
   "outputs": [],
   "source": [
    "def baseline_mean_errors(y):\n",
    "    sse = mean_squared_error(y, y.mean()) * len(y)\n",
    "    mse = mean_squared_error(y, y.mean())\n",
    "    rmse = math.sqrt(mse)\n",
    "    return sse, mse, rmse"
   ]
  },
  {
   "cell_type": "code",
   "execution_count": null,
   "metadata": {},
   "outputs": [],
   "source": [
    "def better_than_baseline(y, yhat):\n",
    "    sse = regression_errors(y, yhat)\n",
    "    sse_b = baseline_mean_errors(y)\n",
    "    if sse < sse_b:\n",
    "        return True\n",
    "    else:\n",
    "        return False"
   ]
  }
 ],
 "metadata": {
  "kernelspec": {
   "display_name": "Python 3.9.12 ('base')",
   "language": "python",
   "name": "python3"
  },
  "language_info": {
   "codemirror_mode": {
    "name": "ipython",
    "version": 3
   },
   "file_extension": ".py",
   "mimetype": "text/x-python",
   "name": "python",
   "nbconvert_exporter": "python",
   "pygments_lexer": "ipython3",
   "version": "3.9.12"
  },
  "orig_nbformat": 4,
  "vscode": {
   "interpreter": {
    "hash": "38cca0c38332a56087b24af0bc80247f4fced29cb4f7f437d91dc159adec9c4e"
   }
  }
 },
 "nbformat": 4,
 "nbformat_minor": 2
}
