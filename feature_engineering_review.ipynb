{
 "cells": [
  {
   "cell_type": "markdown",
   "id": "a2a0590e-5f61-444e-b35d-53dfc0e204bd",
   "metadata": {},
   "source": [
    "Exercises\n",
    "\n",
    "Do your work for this exercise in a jupyter notebook named feature_engineering within the regression-exercises repo. Add, commit, and push your work."
   ]
  },
  {
   "cell_type": "code",
   "execution_count": 1,
   "id": "9a4b476b-11ed-495f-94ff-8873b298a2f6",
   "metadata": {},
   "outputs": [],
   "source": [
    "import numpy as np\n",
    "import pandas as pd\n",
    "import matplotlib.pyplot as plt\n",
    "import seaborn as sns"
   ]
  },
  {
   "cell_type": "code",
   "execution_count": 2,
   "id": "f2768063-8996-407a-accc-a731f6015e94",
   "metadata": {},
   "outputs": [],
   "source": [
    "# get the feature selection stuff we want:\n",
    "from sklearn.feature_selection import SelectKBest, f_regression, RFE\n",
    "from sklearn.model_selection import train_test_split\n",
    "from sklearn.linear_model import LinearRegression"
   ]
  },
  {
   "cell_type": "code",
   "execution_count": 3,
   "id": "5d2255e5-3375-4dff-965a-075cb64fab64",
   "metadata": {},
   "outputs": [],
   "source": [
    "# grab our data source\n",
    "from pydataset import data"
   ]
  },
  {
   "cell_type": "code",
   "execution_count": null,
   "id": "eb8292eb-c8e2-48bc-8839-68187f05ad4f",
   "metadata": {},
   "outputs": [],
   "source": []
  },
  {
   "cell_type": "code",
   "execution_count": 4,
   "id": "d04e5d72-f635-40b5-8b16-62b3bb412729",
   "metadata": {},
   "outputs": [],
   "source": [
    "# acquire our data from pydataset\n",
    "tips = data('tips')"
   ]
  },
  {
   "cell_type": "markdown",
   "id": "0dfe7ce3-9d4a-405b-9d78-e2c12e97316d",
   "metadata": {
    "tags": []
   },
   "source": [
    "        \n",
    "        Before using any of the methods discussed in the lesson, which features do you think would be most important for predicting the tip amount?"
   ]
  },
  {
   "cell_type": "code",
   "execution_count": 6,
   "id": "6441d498-6539-41ca-92fa-21b2deb28fc4",
   "metadata": {},
   "outputs": [
    {
     "name": "stdout",
     "output_type": "stream",
     "text": [
      "<class 'pandas.core.frame.DataFrame'>\n",
      "Int64Index: 244 entries, 1 to 244\n",
      "Data columns (total 7 columns):\n",
      " #   Column      Non-Null Count  Dtype  \n",
      "---  ------      --------------  -----  \n",
      " 0   total_bill  244 non-null    float64\n",
      " 1   tip         244 non-null    float64\n",
      " 2   sex         244 non-null    object \n",
      " 3   smoker      244 non-null    object \n",
      " 4   day         244 non-null    object \n",
      " 5   time        244 non-null    object \n",
      " 6   size        244 non-null    int64  \n",
      "dtypes: float64(2), int64(1), object(4)\n",
      "memory usage: 23.4+ KB\n"
     ]
    }
   ],
   "source": [
    "tips.info()"
   ]
  },
  {
   "cell_type": "code",
   "execution_count": 7,
   "id": "649ff811-f5a3-4a9a-986b-435702c94482",
   "metadata": {},
   "outputs": [
    {
     "data": {
      "text/html": [
       "<div>\n",
       "<style scoped>\n",
       "    .dataframe tbody tr th:only-of-type {\n",
       "        vertical-align: middle;\n",
       "    }\n",
       "\n",
       "    .dataframe tbody tr th {\n",
       "        vertical-align: top;\n",
       "    }\n",
       "\n",
       "    .dataframe thead th {\n",
       "        text-align: right;\n",
       "    }\n",
       "</style>\n",
       "<table border=\"1\" class=\"dataframe\">\n",
       "  <thead>\n",
       "    <tr style=\"text-align: right;\">\n",
       "      <th></th>\n",
       "      <th>total_bill</th>\n",
       "      <th>tip</th>\n",
       "      <th>sex</th>\n",
       "      <th>smoker</th>\n",
       "      <th>day</th>\n",
       "      <th>time</th>\n",
       "      <th>size</th>\n",
       "    </tr>\n",
       "  </thead>\n",
       "  <tbody>\n",
       "    <tr>\n",
       "      <th>1</th>\n",
       "      <td>16.99</td>\n",
       "      <td>1.01</td>\n",
       "      <td>Female</td>\n",
       "      <td>No</td>\n",
       "      <td>Sun</td>\n",
       "      <td>Dinner</td>\n",
       "      <td>2</td>\n",
       "    </tr>\n",
       "    <tr>\n",
       "      <th>2</th>\n",
       "      <td>10.34</td>\n",
       "      <td>1.66</td>\n",
       "      <td>Male</td>\n",
       "      <td>No</td>\n",
       "      <td>Sun</td>\n",
       "      <td>Dinner</td>\n",
       "      <td>3</td>\n",
       "    </tr>\n",
       "  </tbody>\n",
       "</table>\n",
       "</div>"
      ],
      "text/plain": [
       "   total_bill   tip     sex smoker  day    time  size\n",
       "1       16.99  1.01  Female     No  Sun  Dinner     2\n",
       "2       10.34  1.66    Male     No  Sun  Dinner     3"
      ]
     },
     "execution_count": 7,
     "metadata": {},
     "output_type": "execute_result"
    }
   ],
   "source": [
    "tips.head(2)"
   ]
  },
  {
   "cell_type": "code",
   "execution_count": 5,
   "id": "6a852cff-7044-44f6-9263-6e9de383d788",
   "metadata": {},
   "outputs": [
    {
     "data": {
      "text/plain": [
       "<seaborn.axisgrid.PairGrid at 0x7f988b8db5b0>"
      ]
     },
     "execution_count": 5,
     "metadata": {},
     "output_type": "execute_result"
    },
    {
     "data": {
      "image/png": "[encoded data removed]",
      "text/plain": [
       "<Figure size 540x540 with 12 Axes>"
      ]
     },
     "metadata": {
      "needs_background": "light"
     },
     "output_type": "display_data"
    }
   ],
   "source": [
    "sns.pairplot(data=tips)"
   ]
  },
  {
   "cell_type": "code",
   "execution_count": 8,
   "id": "991e0db3-0d7a-4553-9147-2284b33e6381",
   "metadata": {},
   "outputs": [
    {
     "name": "stdout",
     "output_type": "stream",
     "text": [
      "<class 'pandas.core.frame.DataFrame'>\n",
      "Int64Index: 244 entries, 1 to 244\n",
      "Data columns (total 7 columns):\n",
      " #   Column      Non-Null Count  Dtype  \n",
      "---  ------      --------------  -----  \n",
      " 0   total_bill  244 non-null    float64\n",
      " 1   tip         244 non-null    float64\n",
      " 2   sex         244 non-null    object \n",
      " 3   smoker      244 non-null    object \n",
      " 4   day         244 non-null    object \n",
      " 5   time        244 non-null    object \n",
      " 6   size        244 non-null    int64  \n",
      "dtypes: float64(2), int64(1), object(4)\n",
      "memory usage: 23.4+ KB\n"
     ]
    }
   ],
   "source": [
    "tips.info()"
   ]
  },
  {
   "cell_type": "code",
   "execution_count": 9,
   "id": "93be9ebb-7509-40a8-a260-cc83166af498",
   "metadata": {},
   "outputs": [],
   "source": [
    "cat_cols = ['sex', 'smoker', 'day', 'time']\n",
    "num_cols = ['total_bill', 'size']"
   ]
  },
  {
   "cell_type": "code",
   "execution_count": 13,
   "id": "01ac8d7a-7c93-47c1-b83e-d212e65bfc70",
   "metadata": {},
   "outputs": [
    {
     "name": "stdout",
     "output_type": "stream",
     "text": [
      "sex\n",
      "Female    2.833448\n",
      "Male      3.089618\n",
      "Name: tip, dtype: float64\n"
     ]
    },
    {
     "data": {
      "image/png": "[encoded data removed]",
      "text/plain": [
       "<Figure size 432x288 with 1 Axes>"
      ]
     },
     "metadata": {
      "needs_background": "light"
     },
     "output_type": "display_data"
    },
    {
     "name": "stdout",
     "output_type": "stream",
     "text": [
      "smoker\n",
      "No     2.991854\n",
      "Yes    3.008710\n",
      "Name: tip, dtype: float64\n"
     ]
    },
    {
     "data": {
      "image/png": "[encoded data removed]",
      "text/plain": [
       "<Figure size 432x288 with 1 Axes>"
      ]
     },
     "metadata": {
      "needs_background": "light"
     },
     "output_type": "display_data"
    },
    {
     "name": "stdout",
     "output_type": "stream",
     "text": [
      "day\n",
      "Fri     2.734737\n",
      "Sat     2.993103\n",
      "Sun     3.255132\n",
      "Thur    2.771452\n",
      "Name: tip, dtype: float64\n"
     ]
    },
    {
     "name": "stderr",
     "output_type": "stream",
     "text": [
      "/opt/homebrew/anaconda3/envs/homebase/lib/python3.9/site-packages/seaborn/categorical.py:1296: UserWarning: 5.7% of the points cannot be placed; you may want to decrease the size of the markers or use stripplot.\n",
      "  warnings.warn(msg, UserWarning)\n",
      "/opt/homebrew/anaconda3/envs/homebase/lib/python3.9/site-packages/seaborn/categorical.py:1296: UserWarning: 6.5% of the points cannot be placed; you may want to decrease the size of the markers or use stripplot.\n",
      "  warnings.warn(msg, UserWarning)\n"
     ]
    },
    {
     "data": {
      "image/png": "[encoded data removed]",
      "text/plain": [
       "<Figure size 432x288 with 1 Axes>"
      ]
     },
     "metadata": {
      "needs_background": "light"
     },
     "output_type": "display_data"
    },
    {
     "name": "stdout",
     "output_type": "stream",
     "text": [
      "time\n",
      "Dinner    3.102670\n",
      "Lunch     2.728088\n",
      "Name: tip, dtype: float64\n"
     ]
    },
    {
     "data": {
      "image/png": "[encoded data removed]",
      "text/plain": [
       "<Figure size 432x288 with 1 Axes>"
      ]
     },
     "metadata": {
      "needs_background": "light"
     },
     "output_type": "display_data"
    }
   ],
   "source": [
    "for col in cat_cols:\n",
    "    print(tips.groupby(col).tip.mean())\n",
    "    sns.swarmplot(data=tips, x=col, y='tip')\n",
    "    plt.show()"
   ]
  },
  {
   "cell_type": "code",
   "execution_count": 14,
   "id": "4101062b-4981-492e-a647-456d93f50c0d",
   "metadata": {},
   "outputs": [],
   "source": [
    "from scipy import stats"
   ]
  },
  {
   "cell_type": "code",
   "execution_count": 15,
   "id": "2c19285b-0ea4-4d4a-842a-d2e1a6959a7e",
   "metadata": {},
   "outputs": [],
   "source": [
    "# h0: there is not a significant difference in the means of people that tip on the weekends versus people that tip on weekdays\n",
    "# ha: there *is* a difference in the means of weekend tippers versus nonweekend tippers\n",
    "\n",
    "# alpha = 0.05"
   ]
  },
  {
   "cell_type": "code",
   "execution_count": 16,
   "id": "43e4f778-1c90-48aa-9f21-55196339c620",
   "metadata": {},
   "outputs": [
    {
     "data": {
      "text/plain": [
       "Ttest_indResult(statistic=1.8834950801996837, pvalue=0.06083244523772748)"
      ]
     },
     "execution_count": 16,
     "metadata": {},
     "output_type": "execute_result"
    }
   ],
   "source": [
    "stats.ttest_ind(\n",
    "    tips[(tips.day == 'Sun') | (tips.day == 'Sat')].tip,\n",
    "    tips[(tips.day == 'Thur') | (tips.day == 'Fri')].tip\n",
    ")"
   ]
  },
  {
   "cell_type": "code",
   "execution_count": 17,
   "id": "d0a2a126-0e60-4e05-af27-6cee3a61d4e5",
   "metadata": {},
   "outputs": [],
   "source": [
    "# conclusion: we cannot reject the null hypothesis and suggest that weekend tippers generally tip differently than weekday tippers"
   ]
  },
  {
   "cell_type": "code",
   "execution_count": null,
   "id": "0dde7676-bedb-4441-9d83-4d756216e5f6",
   "metadata": {},
   "outputs": [],
   "source": []
  },
  {
   "cell_type": "markdown",
   "id": "53f246e6-06ce-49cc-bb91-3e512607e875",
   "metadata": {},
   "source": [
    "    Load the tips dataset.\n",
    "        Create a column named price_per_person. This should be the total bill divided by the party size."
   ]
  },
  {
   "cell_type": "code",
   "execution_count": 18,
   "id": "0387254d-173c-439d-b36b-2d4611dccdd1",
   "metadata": {},
   "outputs": [
    {
     "data": {
      "text/plain": [
       "Index(['total_bill', 'tip', 'sex', 'smoker', 'day', 'time', 'size'], dtype='object')"
      ]
     },
     "execution_count": 18,
     "metadata": {},
     "output_type": "execute_result"
    }
   ],
   "source": [
    "tips.columns"
   ]
  },
  {
   "cell_type": "code",
   "execution_count": 19,
   "id": "f85b71cc-d98f-4803-90d5-efc8f95e0e2d",
   "metadata": {},
   "outputs": [],
   "source": [
    "tips['price_per_person'] = tips['total_bill'] / tips['size']"
   ]
  },
  {
   "cell_type": "code",
   "execution_count": 20,
   "id": "52a824bc-b5df-4493-be01-45f4a30bc483",
   "metadata": {},
   "outputs": [
    {
     "data": {
      "text/html": [
       "<div>\n",
       "<style scoped>\n",
       "    .dataframe tbody tr th:only-of-type {\n",
       "        vertical-align: middle;\n",
       "    }\n",
       "\n",
       "    .dataframe tbody tr th {\n",
       "        vertical-align: top;\n",
       "    }\n",
       "\n",
       "    .dataframe thead th {\n",
       "        text-align: right;\n",
       "    }\n",
       "</style>\n",
       "<table border=\"1\" class=\"dataframe\">\n",
       "  <thead>\n",
       "    <tr style=\"text-align: right;\">\n",
       "      <th></th>\n",
       "      <th>total_bill</th>\n",
       "      <th>tip</th>\n",
       "      <th>sex</th>\n",
       "      <th>smoker</th>\n",
       "      <th>day</th>\n",
       "      <th>time</th>\n",
       "      <th>size</th>\n",
       "      <th>price_per_person</th>\n",
       "    </tr>\n",
       "  </thead>\n",
       "  <tbody>\n",
       "    <tr>\n",
       "      <th>1</th>\n",
       "      <td>16.99</td>\n",
       "      <td>1.01</td>\n",
       "      <td>Female</td>\n",
       "      <td>No</td>\n",
       "      <td>Sun</td>\n",
       "      <td>Dinner</td>\n",
       "      <td>2</td>\n",
       "      <td>8.495000</td>\n",
       "    </tr>\n",
       "    <tr>\n",
       "      <th>2</th>\n",
       "      <td>10.34</td>\n",
       "      <td>1.66</td>\n",
       "      <td>Male</td>\n",
       "      <td>No</td>\n",
       "      <td>Sun</td>\n",
       "      <td>Dinner</td>\n",
       "      <td>3</td>\n",
       "      <td>3.446667</td>\n",
       "    </tr>\n",
       "    <tr>\n",
       "      <th>3</th>\n",
       "      <td>21.01</td>\n",
       "      <td>3.50</td>\n",
       "      <td>Male</td>\n",
       "      <td>No</td>\n",
       "      <td>Sun</td>\n",
       "      <td>Dinner</td>\n",
       "      <td>3</td>\n",
       "      <td>7.003333</td>\n",
       "    </tr>\n",
       "    <tr>\n",
       "      <th>4</th>\n",
       "      <td>23.68</td>\n",
       "      <td>3.31</td>\n",
       "      <td>Male</td>\n",
       "      <td>No</td>\n",
       "      <td>Sun</td>\n",
       "      <td>Dinner</td>\n",
       "      <td>2</td>\n",
       "      <td>11.840000</td>\n",
       "    </tr>\n",
       "    <tr>\n",
       "      <th>5</th>\n",
       "      <td>24.59</td>\n",
       "      <td>3.61</td>\n",
       "      <td>Female</td>\n",
       "      <td>No</td>\n",
       "      <td>Sun</td>\n",
       "      <td>Dinner</td>\n",
       "      <td>4</td>\n",
       "      <td>6.147500</td>\n",
       "    </tr>\n",
       "    <tr>\n",
       "      <th>...</th>\n",
       "      <td>...</td>\n",
       "      <td>...</td>\n",
       "      <td>...</td>\n",
       "      <td>...</td>\n",
       "      <td>...</td>\n",
       "      <td>...</td>\n",
       "      <td>...</td>\n",
       "      <td>...</td>\n",
       "    </tr>\n",
       "    <tr>\n",
       "      <th>240</th>\n",
       "      <td>29.03</td>\n",
       "      <td>5.92</td>\n",
       "      <td>Male</td>\n",
       "      <td>No</td>\n",
       "      <td>Sat</td>\n",
       "      <td>Dinner</td>\n",
       "      <td>3</td>\n",
       "      <td>9.676667</td>\n",
       "    </tr>\n",
       "    <tr>\n",
       "      <th>241</th>\n",
       "      <td>27.18</td>\n",
       "      <td>2.00</td>\n",
       "      <td>Female</td>\n",
       "      <td>Yes</td>\n",
       "      <td>Sat</td>\n",
       "      <td>Dinner</td>\n",
       "      <td>2</td>\n",
       "      <td>13.590000</td>\n",
       "    </tr>\n",
       "    <tr>\n",
       "      <th>242</th>\n",
       "      <td>22.67</td>\n",
       "      <td>2.00</td>\n",
       "      <td>Male</td>\n",
       "      <td>Yes</td>\n",
       "      <td>Sat</td>\n",
       "      <td>Dinner</td>\n",
       "      <td>2</td>\n",
       "      <td>11.335000</td>\n",
       "    </tr>\n",
       "    <tr>\n",
       "      <th>243</th>\n",
       "      <td>17.82</td>\n",
       "      <td>1.75</td>\n",
       "      <td>Male</td>\n",
       "      <td>No</td>\n",
       "      <td>Sat</td>\n",
       "      <td>Dinner</td>\n",
       "      <td>2</td>\n",
       "      <td>8.910000</td>\n",
       "    </tr>\n",
       "    <tr>\n",
       "      <th>244</th>\n",
       "      <td>18.78</td>\n",
       "      <td>3.00</td>\n",
       "      <td>Female</td>\n",
       "      <td>No</td>\n",
       "      <td>Thur</td>\n",
       "      <td>Dinner</td>\n",
       "      <td>2</td>\n",
       "      <td>9.390000</td>\n",
       "    </tr>\n",
       "  </tbody>\n",
       "</table>\n",
       "<p>244 rows × 8 columns</p>\n",
       "</div>"
      ],
      "text/plain": [
       "     total_bill   tip     sex smoker   day    time  size  price_per_person\n",
       "1         16.99  1.01  Female     No   Sun  Dinner     2          8.495000\n",
       "2         10.34  1.66    Male     No   Sun  Dinner     3          3.446667\n",
       "3         21.01  3.50    Male     No   Sun  Dinner     3          7.003333\n",
       "4         23.68  3.31    Male     No   Sun  Dinner     2         11.840000\n",
       "5         24.59  3.61  Female     No   Sun  Dinner     4          6.147500\n",
       "..          ...   ...     ...    ...   ...     ...   ...               ...\n",
       "240       29.03  5.92    Male     No   Sat  Dinner     3          9.676667\n",
       "241       27.18  2.00  Female    Yes   Sat  Dinner     2         13.590000\n",
       "242       22.67  2.00    Male    Yes   Sat  Dinner     2         11.335000\n",
       "243       17.82  1.75    Male     No   Sat  Dinner     2          8.910000\n",
       "244       18.78  3.00  Female     No  Thur  Dinner     2          9.390000\n",
       "\n",
       "[244 rows x 8 columns]"
      ]
     },
     "execution_count": 20,
     "metadata": {},
     "output_type": "execute_result"
    }
   ],
   "source": [
    "tips"
   ]
  },
  {
   "cell_type": "code",
   "execution_count": 21,
   "id": "093e9956-e32b-4170-9b27-8d4afd927062",
   "metadata": {},
   "outputs": [],
   "source": [
    "# add that to my num_cols:\n",
    "num_cols.append('price_per_person')"
   ]
  },
  {
   "cell_type": "code",
   "execution_count": 22,
   "id": "bd996110-a732-49c1-86c3-6c31f1146aa4",
   "metadata": {},
   "outputs": [],
   "source": [
    "# let's proceed forward into our feature selection process"
   ]
  },
  {
   "cell_type": "markdown",
   "id": "fddd12eb-7137-40fc-a869-47301c9c822e",
   "metadata": {},
   "source": [
    "        \n",
    "        Use select k best to select the top 2 features for predicting tip amount. What are they?"
   ]
  },
  {
   "cell_type": "code",
   "execution_count": null,
   "id": "9bc29176-4eca-48cc-ad87-1ec4accfe1b3",
   "metadata": {},
   "outputs": [],
   "source": []
  },
  {
   "cell_type": "code",
   "execution_count": null,
   "id": "6ef9c4d5-8c29-49a7-8bb1-486181660f56",
   "metadata": {},
   "outputs": [],
   "source": [
    "# let's make our functions first and then elect to use them:"
   ]
  },
  {
   "cell_type": "markdown",
   "id": "3e2fea9a-cf1e-4ab2-8fc5-0584891b71fa",
   "metadata": {},
   "source": [
    "    Write a function named select_kbest that takes in the predictors (X), the target (y), and the number of features to select (k) and returns the names of the top k selected features based on the SelectKBest class. Test your function with the tips dataset. You should see the same results as when you did the process manually."
   ]
  },
  {
   "cell_type": "code",
   "execution_count": 24,
   "id": "7627ae9a-d203-416c-be4e-df35643a5aec",
   "metadata": {},
   "outputs": [],
   "source": [
    "def select_kbest(X, y, k=2):\n",
    "    '''\n",
    "    will take in two pandas objects:\n",
    "    X: a dataframe representing numerical independent features\n",
    "    y: a pandas Series representing a target variable\n",
    "    k: a keyword argument defaulted to 2 for the number of ideal features we elect to select\n",
    "    \n",
    "    return: a list of the selected features from the SelectKBest process\n",
    "    '''\n",
    "    kbest = SelectKBest(f_regression, k=k)\n",
    "    kbest.fit(X, y)\n",
    "    mask = kbest.get_support()\n",
    "    return X.columns[mask]\n",
    "    "
   ]
  },
  {
   "cell_type": "markdown",
   "id": "c4dc2022-1747-40b0-9cb8-ddc929779ef2",
   "metadata": {},
   "source": [
    "    Write a function named rfe that takes in the predictors, the target, and the number of features to select. It should return the top k features based on the RFE class. Test your function with the tips dataset. You should see the same results as when you did the process manually."
   ]
  },
  {
   "cell_type": "code",
   "execution_count": 25,
   "id": "f6d4e0ac-d3b7-4d9c-b145-b0b15e1e79e8",
   "metadata": {},
   "outputs": [],
   "source": [
    "def rfe(X, y, k=2):\n",
    "    '''\n",
    "    will take in two pandas objects:\n",
    "    X: a dataframe representing numerical independent features\n",
    "    y: a pandas Series representing a target variable\n",
    "    k: a keyword argument defaulted to 2 for the number of ideal features we elect to select\n",
    "    \n",
    "    return: a list of the selected features from the recursive feature elimination process\n",
    "    '''\n",
    "    rf = RFE(LinearRegression(), n_features_to_select=k)\n",
    "    rf.fit(X, y)\n",
    "    mask = rf.get_support()\n",
    "    return X.columns[mask]"
   ]
  },
  {
   "cell_type": "markdown",
   "id": "01caeee3-6c7b-446b-99f1-42c4cbd4ee9b",
   "metadata": {},
   "source": [
    "        \n",
    "        Use recursive feature elimination to select the top 2 features for tip amount. What are they?"
   ]
  },
  {
   "cell_type": "code",
   "execution_count": 26,
   "id": "e8fd9af4-8fd1-4ef2-939f-77b8511ebbc4",
   "metadata": {},
   "outputs": [
    {
     "data": {
      "text/plain": [
       "Index(['total_bill', 'price_per_person'], dtype='object')"
      ]
     },
     "execution_count": 26,
     "metadata": {},
     "output_type": "execute_result"
    }
   ],
   "source": [
    "X_train = tips[num_cols]\n",
    "y_train = tips.tip\n",
    "rfe(X_train, y_train)"
   ]
  },
  {
   "cell_type": "code",
   "execution_count": 27,
   "id": "edc5e2b0-6e1a-4159-aec6-d1602b354f3b",
   "metadata": {},
   "outputs": [
    {
     "data": {
      "text/plain": [
       "Index(['total_bill', 'size'], dtype='object')"
      ]
     },
     "execution_count": 27,
     "metadata": {},
     "output_type": "execute_result"
    }
   ],
   "source": [
    "select_kbest(X_train, y_train)"
   ]
  },
  {
   "cell_type": "markdown",
   "id": "cb683344-b71d-4cd7-9d70-35ef18d19bee",
   "metadata": {},
   "source": [
    "        \n",
    "        Why do you think select k best and recursive feature elimination might give different answers for the top features? Does this change as you change the number of features you are selecting?"
   ]
  },
  {
   "cell_type": "markdown",
   "id": "f2c40c2a-153a-41ba-952d-484b239fc6f2",
   "metadata": {},
   "source": [
    "    Load the swiss dataset and use all the other features to predict Fertility. Find the top 3 features using both select k best and recursive feature elimination (use the functions you just built to help you out)."
   ]
  },
  {
   "cell_type": "code",
   "execution_count": 28,
   "id": "7e9787db-f6eb-4937-a619-7564fd244121",
   "metadata": {},
   "outputs": [],
   "source": [
    "swiss = data('swiss')"
   ]
  },
  {
   "cell_type": "code",
   "execution_count": 29,
   "id": "4745fe1d-e421-414e-bd9e-ee6cd026dde7",
   "metadata": {},
   "outputs": [
    {
     "name": "stdout",
     "output_type": "stream",
     "text": [
      "<class 'pandas.core.frame.DataFrame'>\n",
      "Index: 47 entries, Courtelary to Rive Gauche\n",
      "Data columns (total 6 columns):\n",
      " #   Column            Non-Null Count  Dtype  \n",
      "---  ------            --------------  -----  \n",
      " 0   Fertility         47 non-null     float64\n",
      " 1   Agriculture       47 non-null     float64\n",
      " 2   Examination       47 non-null     int64  \n",
      " 3   Education         47 non-null     int64  \n",
      " 4   Catholic          47 non-null     float64\n",
      " 5   Infant.Mortality  47 non-null     float64\n",
      "dtypes: float64(4), int64(2)\n",
      "memory usage: 2.6+ KB\n"
     ]
    }
   ],
   "source": [
    "swiss.info()"
   ]
  },
  {
   "cell_type": "code",
   "execution_count": 30,
   "id": "d04c8871-f307-4917-b644-f12dbaec34ea",
   "metadata": {},
   "outputs": [],
   "source": [
    "# considerations that we would take if this was a real pipeline:\n",
    "# we would indeed be scaling any continuous features\n",
    "# we would also be encoding any categorical features\n",
    "# we would also be doing a train_test_split\n",
    "# this is a lesson review on feature selection so I'm just cutting corners"
   ]
  },
  {
   "cell_type": "code",
   "execution_count": 31,
   "id": "0fbdf9fe-803d-438c-9ddb-40084bf00f62",
   "metadata": {},
   "outputs": [],
   "source": [
    "X = swiss.drop(columns='Infant.Mortality')\n",
    "y = swiss['Infant.Mortality']"
   ]
  },
  {
   "cell_type": "code",
   "execution_count": 32,
   "id": "b1e8a522-60f2-406c-bcc5-8f954c2999ce",
   "metadata": {},
   "outputs": [
    {
     "data": {
      "text/plain": [
       "Index(['Fertility', 'Examination', 'Education'], dtype='object')"
      ]
     },
     "execution_count": 32,
     "metadata": {},
     "output_type": "execute_result"
    }
   ],
   "source": [
    "rfe(X, y, k=3)"
   ]
  },
  {
   "cell_type": "code",
   "execution_count": 33,
   "id": "3b57e42b-df2a-4476-a919-545abca1ff1c",
   "metadata": {},
   "outputs": [
    {
     "name": "stdout",
     "output_type": "stream",
     "text": [
      "swiss\n",
      "\n",
      "PyDataset Documentation (adopted from R Documentation. The displayed examples are in R)\n",
      "\n",
      "## Swiss Fertility and Socioeconomic Indicators (1888) Data\n",
      "\n",
      "### Description\n",
      "\n",
      "Standardized fertility measure and socio-economic indicators for each of 47\n",
      "French-speaking provinces of Switzerland at about 1888.\n",
      "\n",
      "### Usage\n",
      "\n",
      "    data(swiss)\n",
      "\n",
      "### Format\n",
      "\n",
      "A data frame with 47 observations on 6 variables, each of which is in percent,\n",
      "i.e., in [0,100].\n",
      "\n",
      "[,1] Fertility Ig, \"common standardized fertility measure\" [,2] Agriculture\n",
      "[,3] Examination nation [,4] Education [,5] Catholic [,6] Infant.Mortality\n",
      "live births who live less than 1 year.\n",
      "\n",
      "All variables but 'Fert' give proportions of the population.\n",
      "\n",
      "### Source\n",
      "\n",
      "Project \"16P5\", pages 549-551 in\n",
      "\n",
      "Mosteller, F. and Tukey, J. W. (1977) “Data Analysis and Regression: A Second\n",
      "Course in Statistics”. Addison-Wesley, Reading Mass.\n",
      "\n",
      "indicating their source as \"Data used by permission of Franice van de Walle.\n",
      "Office of Population Research, Princeton University, 1976\\. Unpublished data\n",
      "assembled under NICHD contract number No 1-HD-O-2077.\"\n",
      "\n",
      "### References\n",
      "\n",
      "Becker, R. A., Chambers, J. M. and Wilks, A. R. (1988) “The New S Language”.\n",
      "Wadsworth & Brooks/Cole.\n",
      "\n",
      "\n"
     ]
    }
   ],
   "source": [
    "data('swiss', show_doc=True)"
   ]
  },
  {
   "cell_type": "code",
   "execution_count": 34,
   "id": "7ac3890c-a7b6-4a4c-9530-c899f2b7fa0b",
   "metadata": {},
   "outputs": [
    {
     "data": {
      "text/plain": [
       "Index(['Fertility', 'Examination', 'Catholic'], dtype='object')"
      ]
     },
     "execution_count": 34,
     "metadata": {},
     "output_type": "execute_result"
    }
   ],
   "source": [
    "select_kbest(X, y, k=3)"
   ]
  },
  {
   "cell_type": "markdown",
   "id": "56505c0c-c9d9-40e5-8abf-0f2b953d2eb0",
   "metadata": {},
   "source": [
    "Conclusions:\n",
    "Fertility is drawing the most significance according to each of these feature selection methods, but I have questions about the data integrity and metric establishment of the Fertility metric and how it relates to proportion of the population.  I will attempt to investigate this further before putting a model into production.\n",
    "\n",
    "Examination seems to be a winning driver, as it was the only other that both methods selected, and i will corroborate this with a statistical correlation test as well as exploratory data visualizations.\n",
    "\n",
    "I'll refer back to my EDA to see if Catholic and/or Education are exceptionally valuable to the output of my model: If one of them happens to be more valuable, I may elect to keep one or both for modelinbg in production.  I will also corroborate this information with the modeling process (trying different feature spaces as I train my models)"
   ]
  },
  {
   "cell_type": "code",
   "execution_count": null,
   "id": "2d76de4f-211d-4931-81a4-e2bf6ebb6ced",
   "metadata": {},
   "outputs": [],
   "source": []
  }
 ],
 "metadata": {
  "kernelspec": {
   "display_name": "Python 3",
   "language": "python",
   "name": "python3"
  },
  "language_info": {
   "codemirror_mode": {
    "name": "ipython",
    "version": 3
   },
   "file_extension": ".py",
   "mimetype": "text/x-python",
   "name": "python",
   "nbconvert_exporter": "python",
   "pygments_lexer": "ipython3",
   "version": "3.9.4"
  }
 },
 "nbformat": 4,
 "nbformat_minor": 5
}
